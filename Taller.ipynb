{
 "cells": [
  {
   "cell_type": "code",
   "execution_count": 36,
   "metadata": {},
   "outputs": [],
   "source": [
    "from __future__ import print_function \n",
    "import numpy as np\n",
    "import matplotlib.pyplot as plt\n",
    "from pylab import *\n",
    "%matplotlib inline"
   ]
  },
  {
   "cell_type": "code",
   "execution_count": 37,
   "metadata": {},
   "outputs": [],
   "source": [
    "f=np.load('fit_ejercise.npy')\n"
   ]
  },
  {
   "cell_type": "code",
   "execution_count": 38,
   "metadata": {},
   "outputs": [
    {
     "data": {
      "text/plain": [
       "<ErrorbarContainer object of 3 artists>"
      ]
     },
     "execution_count": 38,
     "metadata": {},
     "output_type": "execute_result"
    },
    {
     "data": {
      "image/png": "[encoded data removed]",
      "text/plain": [
       "<Figure size 432x288 with 1 Axes>"
      ]
     },
     "metadata": {
      "needs_background": "light"
     },
     "output_type": "display_data"
    }
   ],
   "source": [
    "x=f[0]\n",
    "y=f[1]\n",
    "err=f[2]\n",
    "plt.errorbar(x, y, yerr=err,  xerr=None, fmt='.', label='data')"
   ]
  },
  {
   "cell_type": "code",
   "execution_count": 39,
   "metadata": {},
   "outputs": [],
   "source": [
    "def line (x,m,b):                       # Modelo a probar\n",
    "    return ((m*x)+b)\n",
    "\n"
   ]
  },
  {
   "cell_type": "code",
   "execution_count": 40,
   "metadata": {},
   "outputs": [],
   "source": [
    "def chisq(theta, data):                 # Donde theta son los datos que se generan a aprtir del montecarlo \n",
    "    x= data[0]                          # (theta(0) es la pendiente (a) y theta(1) es la ordenada al origen (b))\n",
    "    y= data[1]\n",
    "    yerr= data[2]\n",
    "    #lo siguiente depende del modelo \n",
    "    model= line(x, theta[0], theta[1])\n",
    "    chisq= (y-model)**2 / yerr**2\n",
    "    return chisq.sum()\n",
    "\n",
    "def comparacion(chisq_ini, chisq_new):  #funcioón para comparar los modelos\n",
    "    a=np.log(np.random.uniform(0,1))\n",
    "    \n",
    "    if chisq_new < chisq_ini:\n",
    "        chisq_ini= chisq_new\n",
    "        acc=True\n",
    "        \n",
    "    elif (chisq_ini-chisq_new) > a:\n",
    "        chisq_ini= chisq_new\n",
    "        acc=True\n",
    "    \n",
    "    else: \n",
    "        chisq_ini= chisq_ini\n",
    "        acc=False\n",
    "            \n",
    "    return chisq_ini, acc\n",
    "\n",
    "def montecarlo(a_ini, b_ini, data, s2, n):  #donde s2 esel sigma cuadrada\n",
    "    \n",
    "    chisqr_stor=np.zeros(n)\n",
    "    a=np.zeros(n)\n",
    "    b=np.zeros(n)\n",
    "    k=0               #Contador devalores acepados\n",
    "    \n",
    "    for i in range(n):\n",
    "    \n",
    "        a[i]=a_ini\n",
    "        b[i]=b_ini\n",
    "    \n",
    "        a_new =s2* np.random.randn()+ a_ini\n",
    "        b_new =s2* np.random.randn()+ b_ini   #Se generan los nuevos pares de parámetros\n",
    "    \n",
    "        chisqr_ini=chisq([a_ini,b_ini], data)\n",
    "        chisqr_new=chisq([a_new,b_new], data)\n",
    "        chisqr_stor[i]= chisqr_ini\n",
    "\n",
    "\n",
    "        chisq_comp,acc= comparacion(chisqr_ini, chisqr_new)\n",
    "            \n",
    "        if acc is not True: # == chisqr_ini:\n",
    "            a_ini=a_ini\n",
    "            b_ini=b_ini\n",
    "        else:\n",
    "            a_ini=a_new\n",
    "            b_ini=b_new\n",
    "            k= k + 1\n",
    "        \n",
    "    \n",
    "    return a, b, chisqr_stor, k\n",
    "    "
   ]
  },
  {
   "cell_type": "code",
   "execution_count": 41,
   "metadata": {},
   "outputs": [
    {
     "data": {
      "text/plain": [
       "4640"
      ]
     },
     "execution_count": 41,
     "metadata": {},
     "output_type": "execute_result"
    }
   ],
   "source": [
    "\n",
    "m, b= -2.5,3.5\n",
    "parametros=montecarlo(m, b, [x, y, err], 0.01, 10000)\n",
    "m=parametros[0]\n",
    "b=parametros[1]\n",
    "k= parametros[3]\n",
    "k"
   ]
  },
  {
   "cell_type": "code",
   "execution_count": 43,
   "metadata": {},
   "outputs": [
    {
     "data": {
      "text/plain": [
       "Text(0, 0.5, '[3.5        3.5        3.5        ... 5.49950743 5.51564557 5.51564557]')"
      ]
     },
     "execution_count": 43,
     "metadata": {},
     "output_type": "execute_result"
    },
    {
     "data": {
      "image/png": "[encoded data removed]",
      "text/plain": [
       "<Figure size 432x288 with 1 Axes>"
      ]
     },
     "metadata": {
      "needs_background": "light"
     },
     "output_type": "display_data"
    }
   ],
   "source": [
    "scat=plt.scatter(m, b, s=1, alpha=0.5) \n",
    "plt.xlabel(m)\n",
    "plt.ylabel(b)\n",
    "#plt.legend(frameon = True)\n"
   ]
  },
  {
   "cell_type": "code",
   "execution_count": 44,
   "metadata": {},
   "outputs": [
    {
     "data": {
      "text/plain": [
       "(array([  84.,  410.,  978., 1423., 1633., 1473., 1203.,  622.,  161.,\n",
       "          13.]),\n",
       " array([-1.13247931, -1.12681933, -1.12115935, -1.11549937, -1.10983939,\n",
       "        -1.10417941, -1.09851943, -1.09285945, -1.08719947, -1.08153949,\n",
       "        -1.07587951]),\n",
       " <a list of 10 Patch objects>)"
      ]
     },
     "execution_count": 44,
     "metadata": {},
     "output_type": "execute_result"
    },
    {
     "data": {
      "image/png": "[encoded data removed]",
      "text/plain": [
       "<Figure size 432x288 with 1 Axes>"
      ]
     },
     "metadata": {
      "needs_background": "light"
     },
     "output_type": "display_data"
    }
   ],
   "source": [
    "plt.hist(m[2000:], alpha=0.5)"
   ]
  },
  {
   "cell_type": "code",
   "execution_count": 45,
   "metadata": {},
   "outputs": [
    {
     "data": {
      "text/plain": [
       "-1.1059672548386075"
      ]
     },
     "execution_count": 45,
     "metadata": {},
     "output_type": "execute_result"
    }
   ],
   "source": [
    "m_mean=mean(m[2000:])\n",
    "m_mean"
   ]
  },
  {
   "cell_type": "code",
   "execution_count": 46,
   "metadata": {},
   "outputs": [
    {
     "data": {
      "text/plain": [
       "(array([  53.,  383.,  997., 1256., 1319., 1190., 1244.,  967.,  511.,\n",
       "          80.]),\n",
       " array([5.31407489, 5.34117439, 5.36827389, 5.39537339, 5.42247289,\n",
       "        5.44957239, 5.47667189, 5.50377139, 5.53087089, 5.55797039,\n",
       "        5.58506989]),\n",
       " <a list of 10 Patch objects>)"
      ]
     },
     "execution_count": 46,
     "metadata": {},
     "output_type": "execute_result"
    },
    {
     "data": {
      "image/png": "[encoded data removed]",
      "text/plain": [
       "<Figure size 432x288 with 1 Axes>"
      ]
     },
     "metadata": {
      "needs_background": "light"
     },
     "output_type": "display_data"
    }
   ],
   "source": [
    "plt.hist(b[2000:], alpha=0.5)"
   ]
  },
  {
   "cell_type": "code",
   "execution_count": 47,
   "metadata": {},
   "outputs": [
    {
     "data": {
      "text/plain": [
       "5.451208052211885"
      ]
     },
     "execution_count": 47,
     "metadata": {},
     "output_type": "execute_result"
    }
   ],
   "source": [
    "b_mean=mean(b[2000:])\n",
    "b_mean"
   ]
  },
  {
   "cell_type": "code",
   "execution_count": 48,
   "metadata": {},
   "outputs": [
    {
     "name": "stdout",
     "output_type": "stream",
     "text": [
      "15 15\n"
     ]
    }
   ],
   "source": [
    "x_val=np.random.uniform(-1,11, 15)\n",
    "y_val= (m_mean)*x_val +b_mean\n",
    "print(len(x_val), len(y_val))"
   ]
  },
  {
   "cell_type": "code",
   "execution_count": 49,
   "metadata": {},
   "outputs": [
    {
     "data": {
      "text/plain": [
       "Text(0, 0.5, 'y')"
      ]
     },
     "execution_count": 49,
     "metadata": {},
     "output_type": "execute_result"
    },
    {
     "data": {
      "image/png": "[encoded data removed]",
      "text/plain": [
       "<Figure size 432x288 with 1 Axes>"
      ]
     },
     "metadata": {
      "needs_background": "light"
     },
     "output_type": "display_data"
    }
   ],
   "source": [
    "plot(x_val,y_val,'-', label='model')\n",
    "plt.errorbar(x, y, yerr=err,  xerr=None, fmt='.', label='data')\n",
    "plt.xlabel('x')\n",
    "plt.ylabel('y')"
   ]
  },
  {
   "cell_type": "markdown",
   "metadata": {},
   "source": [
    "### Para el caso de Pk en cosmología "
   ]
  },
  {
   "cell_type": "code",
   "execution_count": 14,
   "metadata": {},
   "outputs": [],
   "source": [
    "from colossus.cosmology import cosmology\n"
   ]
  },
  {
   "cell_type": "code",
   "execution_count": 15,
   "metadata": {},
   "outputs": [
    {
     "name": "stdout",
     "output_type": "stream",
     "text": [
      "Cosmology \"planck15\" \n",
      "    flat = True, Om0 = 0.3089, Ode0 = 0.6910, Ob0 = 0.0486, H0 = 67.74, sigma8 = 0.8159, ns = 0.9667\n",
      "    de_model = lambda, relspecies = True, Tcmb0 = 2.7255, Neff = 3.0460, powerlaw = False\n"
     ]
    }
   ],
   "source": [
    "cosmo = cosmology.setCosmology('planck15')\n",
    "print(cosmo)"
   ]
  },
  {
   "cell_type": "code",
   "execution_count": 16,
   "metadata": {},
   "outputs": [
    {
     "name": "stdout",
     "output_type": "stream",
     "text": [
      "Cosmology: Detected change in cosmological parameters.\n",
      "Cosmology \"planck15\" \n",
      "    flat = True, Om0 = 0.2900, Ode0 = 0.7100, Ob0 = 0.0486, H0 = 70.00, sigma8 = 0.8159, ns = 0.9700\n",
      "    de_model = lambda, relspecies = False, Tcmb0 = 2.7255, Neff = 3.0460, powerlaw = False\n"
     ]
    }
   ],
   "source": [
    "#Modificando la cosmología\n",
    "\n",
    "cosmo.Om0=0.29\n",
    "cosmo.Omde=0.71\n",
    "cosmo.ns=0.97\n",
    "cosmo.H0=70\n",
    "cosmo.relspecies=False\n",
    "cosmo.checkForChangedCosmology()\n",
    "print(cosmo)"
   ]
  },
  {
   "cell_type": "code",
   "execution_count": 17,
   "metadata": {},
   "outputs": [],
   "source": [
    "pk=np.loadtxt(\"pk.txt\").T"
   ]
  },
  {
   "cell_type": "code",
   "execution_count": 18,
   "metadata": {},
   "outputs": [
    {
     "data": {
      "text/plain": [
       "(100, 300000.0)"
      ]
     },
     "execution_count": 18,
     "metadata": {},
     "output_type": "execute_result"
    },
    {
     "data": {
      "image/png": "[encoded data removed]",
      "text/plain": [
       "<Figure size 432x288 with 1 Axes>"
      ]
     },
     "metadata": {
      "needs_background": "light"
     },
     "output_type": "display_data"
    }
   ],
   "source": [
    "plt.loglog()\n",
    "plt.errorbar(pk[0],pk[1], yerr=pk[2], fmt='.' )\n",
    "plt.xlim(1e-3,1)\n",
    "plt.ylim(100,3e5)"
   ]
  },
  {
   "cell_type": "code",
   "execution_count": 19,
   "metadata": {},
   "outputs": [
    {
     "data": {
      "text/plain": [
       "[<matplotlib.lines.Line2D at 0x181e930190>]"
      ]
     },
     "execution_count": 19,
     "metadata": {},
     "output_type": "execute_result"
    },
    {
     "data": {
      "image/png": "[encoded data removed]",
      "text/plain": [
       "<Figure size 432x288 with 1 Axes>"
      ]
     },
     "metadata": {
      "needs_background": "light"
     },
     "output_type": "display_data"
    }
   ],
   "source": [
    "k=10**np.linspace(-6,5,100000)\n",
    "Pk=cosmo.matterPowerSpectrum(k,0.57)\n",
    "plt.loglog()\n",
    "plt.plot(k, (1.85 **2) * Pk, '-')"
   ]
  },
  {
   "cell_type": "code",
   "execution_count": 20,
   "metadata": {},
   "outputs": [
    {
     "name": "stdout",
     "output_type": "stream",
     "text": [
      "Cosmology \"planck15\" \n",
      "    flat = True, Om0 = 0.3089, Ode0 = 0.6910, Ob0 = 0.0486, H0 = 67.74, sigma8 = 0.8159, ns = 0.9667\n",
      "    de_model = lambda, relspecies = True, Tcmb0 = 2.7255, Neff = 3.0460, powerlaw = False\n"
     ]
    }
   ],
   "source": [
    "cosmo = cosmology.setCosmology('planck15')\n",
    "print(cosmo)\n",
    "\n",
    "def Pk_Om(Om_,b, k, z):\n",
    "    cosmo.Om0=Om_\n",
    "    return (b**2)*cosmo.matterPowerSpectrum(k,z)\n",
    "\n"
   ]
  },
  {
   "cell_type": "code",
   "execution_count": 21,
   "metadata": {},
   "outputs": [
    {
     "data": {
      "image/png": "[encoded data removed]",
      "text/plain": [
       "<Figure size 432x288 with 1 Axes>"
      ]
     },
     "metadata": {
      "needs_background": "light"
     },
     "output_type": "display_data"
    }
   ],
   "source": [
    "plt.figure()\n",
    "plt.loglog()\n",
    "\n",
    "OM=[0.2,0.3, 0.4]\n",
    "for om in OM:\n",
    "    plt.plot(k,Pk_Om(om, 1.85, k, 0.57), '-')\n",
    "    plt.plot(k,Pk_Om(om, 3, k, 0.57), '--')\n",
    "    \n",
    "    plt.xlim(1e-3,1)\n",
    "    plt.ylim(100,3e6)\n",
    "    #plt.savefig('/Users/stefany/Desktop/dif_pk.pdf')\n",
    "\n"
   ]
  },
  {
   "cell_type": "code",
   "execution_count": 22,
   "metadata": {},
   "outputs": [],
   "source": [
    "def chisq2(theta, data):                 # Donde theta son los datos que se generan a aprtir del montecarlo \n",
    "    x= data[0]                          # (theta(0) es la pendiente (a) y theta(1) es la ordenada al origen (b))\n",
    "    y= data[1]\n",
    "    yerr= data[2]\n",
    "    z=0.57\n",
    "    #lo siguiente depende del modelo \n",
    "    model= Pk_Om(theta[0],theta[1], x, z)\n",
    "    chisq= (y-model)**2 / yerr**2\n",
    "    return chisq.sum()"
   ]
  },
  {
   "cell_type": "code",
   "execution_count": 23,
   "metadata": {},
   "outputs": [
    {
     "data": {
      "text/plain": [
       "255808.0630092289"
      ]
     },
     "execution_count": 23,
     "metadata": {},
     "output_type": "execute_result"
    }
   ],
   "source": [
    "chisqr=chisq([0.7,0.4],pk )\n",
    "chisqr"
   ]
  },
  {
   "cell_type": "code",
   "execution_count": 24,
   "metadata": {},
   "outputs": [],
   "source": [
    "def montecarlo(a_ini, b_ini, data, s2, n):  #donde s2 esel sigma cuadrada\n",
    "    \n",
    "    chisqr_stor=np.zeros(n)\n",
    "    a=np.zeros(n)\n",
    "    b=np.zeros(n)\n",
    "    k=0               #Contador devalores acepados\n",
    "    \n",
    "    for i in range(n):\n",
    "    \n",
    "        a[i]=a_ini\n",
    "        b[i]=b_ini\n",
    "    \n",
    "        a_new =s2* np.random.randn()+ a_ini\n",
    "        b_new =s2* np.random.randn()+ b_ini   #Se generan los nuevos pares de parámetros\n",
    "    \n",
    "        chisqr_ini=chisq2([a_ini,b_ini], data)\n",
    "        chisqr_new=chisq2([a_new,b_new], data)\n",
    "        chisqr_stor[i]= chisqr_ini\n",
    "\n",
    "\n",
    "        chisq_comp,acc= comparacion(chisqr_ini, chisqr_new)\n",
    "            \n",
    "        if acc is not True: # == chisqr_ini:\n",
    "            a_ini=a_ini\n",
    "            b_ini=b_ini\n",
    "        else:\n",
    "            a_ini=a_new\n",
    "            b_ini=b_new\n",
    "            k= k + 1\n",
    "        \n",
    "    \n",
    "    return a, b, chisqr_stor, k\n",
    "    "
   ]
  },
  {
   "cell_type": "code",
   "execution_count": 33,
   "metadata": {},
   "outputs": [
    {
     "data": {
      "text/plain": [
       "421"
      ]
     },
     "execution_count": 33,
     "metadata": {},
     "output_type": "execute_result"
    }
   ],
   "source": [
    "Om_ini=0.7\n",
    "b2_ini=0.4\n",
    "z=0.57        \n",
    "    \n",
    "pk_prueba= montecarlo(0.5, 0.6, pk, 0.01, 10000)\n",
    "\n",
    "param1=pk_prueba[0]\n",
    "k=pk_prueba[3]\n",
    "k"
   ]
  },
  {
   "cell_type": "code",
   "execution_count": 34,
   "metadata": {},
   "outputs": [
    {
     "name": "stderr",
     "output_type": "stream",
     "text": [
      "No handles with labels found to put in legend.\n"
     ]
    },
    {
     "data": {
      "image/png": "[encoded data removed]",
      "text/plain": [
       "<Figure size 432x288 with 1 Axes>"
      ]
     },
     "metadata": {
      "needs_background": "light"
     },
     "output_type": "display_data"
    }
   ],
   "source": [
    "Omega=pk_prueba[0]\n",
    "b=pk_prueba[1]\n",
    "\n",
    "scat=plt.scatter(pk_prueba[0], pk_prueba[1], s=1, alpha=0.5) #, label= 'caminante {0}'.format(i))\n",
    "#plt.xlim(-1.25,-0.75)\n",
    "#plt.ylim(5,6)\n",
    "plt.xlabel('Omega')\n",
    "plt.ylabel('b2')\n",
    "plt.legend(frameon = True)\n",
    "k=pk_prueba[3]\n",
    "acc=k/1000"
   ]
  },
  {
   "cell_type": "code",
   "execution_count": 35,
   "metadata": {},
   "outputs": [
    {
     "data": {
      "text/plain": [
       "(array([ 270.,  677., 3255.,  744.,    0.,    0., 1226., 1945.,  766.,\n",
       "         117.]),\n",
       " array([0.35271265, 0.35359351, 0.35447437, 0.35535523, 0.35623609,\n",
       "        0.35711695, 0.35799781, 0.35887867, 0.35975953, 0.36064038,\n",
       "        0.36152124]),\n",
       " <a list of 10 Patch objects>)"
      ]
     },
     "execution_count": 35,
     "metadata": {},
     "output_type": "execute_result"
    },
    {
     "data": {
      "image/png": "[encoded data removed]",
      "text/plain": [
       "<Figure size 432x288 with 1 Axes>"
      ]
     },
     "metadata": {
      "needs_background": "light"
     },
     "output_type": "display_data"
    }
   ],
   "source": [
    "plt.hist(Omega[1000:], alpha=0.5)"
   ]
  },
  {
   "cell_type": "code",
   "execution_count": 36,
   "metadata": {},
   "outputs": [
    {
     "data": {
      "text/plain": [
       "0.35682136911626877"
      ]
     },
     "execution_count": 36,
     "metadata": {},
     "output_type": "execute_result"
    }
   ],
   "source": [
    "Om_mean=mean(Omega[2000:])\n",
    "Om_mean"
   ]
  },
  {
   "cell_type": "code",
   "execution_count": 37,
   "metadata": {},
   "outputs": [
    {
     "data": {
      "text/plain": [
       "(array([  64.,  240., 1437., 1318., 1880., 1507., 1219.,  927.,  313.,\n",
       "          95.]),\n",
       " array([2.11669516, 2.11775935, 2.11882354, 2.11988774, 2.12095193,\n",
       "        2.12201612, 2.12308031, 2.1241445 , 2.1252087 , 2.12627289,\n",
       "        2.12733708]),\n",
       " <a list of 10 Patch objects>)"
      ]
     },
     "execution_count": 37,
     "metadata": {},
     "output_type": "execute_result"
    },
    {
     "data": {
      "image/png": "[encoded data removed]",
      "text/plain": [
       "<Figure size 432x288 with 1 Axes>"
      ]
     },
     "metadata": {
      "needs_background": "light"
     },
     "output_type": "display_data"
    }
   ],
   "source": [
    "plt.hist(b[1000:], alpha=0.5)"
   ]
  },
  {
   "cell_type": "code",
   "execution_count": 38,
   "metadata": {},
   "outputs": [
    {
     "data": {
      "text/plain": [
       "2.121841496076707"
      ]
     },
     "execution_count": 38,
     "metadata": {},
     "output_type": "execute_result"
    }
   ],
   "source": [
    "b_mean=mean(b[2000:])\n",
    "b_mean"
   ]
  },
  {
   "cell_type": "code",
   "execution_count": 39,
   "metadata": {},
   "outputs": [
    {
     "data": {
      "text/plain": [
       "(100, 300000.0)"
      ]
     },
     "execution_count": 39,
     "metadata": {},
     "output_type": "execute_result"
    },
    {
     "data": {
      "image/png": "[encoded data removed]",
      "text/plain": [
       "<Figure size 432x288 with 1 Axes>"
      ]
     },
     "metadata": {
      "needs_background": "light"
     },
     "output_type": "display_data"
    }
   ],
   "source": [
    "plt.loglog()\n",
    "k=10**np.linspace(-6,5,100000)\n",
    "plt.plot(k,Pk_Om(Om_mean, b_mean, k, 0.57), '-', label='valor encontrado')\n",
    "plt.errorbar(pk[0],pk[1], yerr=pk[2], fmt='.', label='datos' )\n",
    "plt.xlim(1e-3,1)\n",
    "plt.ylim(100,3e5)"
   ]
  },
  {
   "cell_type": "code",
   "execution_count": 24,
   "metadata": {},
   "outputs": [
    {
     "data": {
      "text/plain": [
       "array([0.        , 0.10526316, 0.21052632, 0.31578947, 0.42105263,\n",
       "       0.52631579, 0.63157895, 0.73684211, 0.84210526, 0.94736842,\n",
       "       1.05263158, 1.15789474, 1.26315789, 1.36842105, 1.47368421,\n",
       "       1.57894737, 1.68421053, 1.78947368, 1.89473684, 2.        ])"
      ]
     },
     "execution_count": 24,
     "metadata": {},
     "output_type": "execute_result"
    }
   ],
   "source": [
    "\n",
    "x=np.linspace(0,2, 20)\n",
    "x"
   ]
  },
  {
   "cell_type": "code",
   "execution_count": 25,
   "metadata": {},
   "outputs": [
    {
     "data": {
      "text/plain": [
       "array([ 8.        ,  8.52631579,  9.05263158,  9.57894737, 10.10526316,\n",
       "       10.63157895, 11.15789474, 11.68421053, 12.21052632, 12.73684211,\n",
       "       13.26315789, 13.78947368, 14.31578947, 14.84210526, 15.36842105,\n",
       "       15.89473684, 16.42105263, 16.94736842, 17.47368421, 18.        ])"
      ]
     },
     "execution_count": 25,
     "metadata": {},
     "output_type": "execute_result"
    }
   ],
   "source": [
    "m=5\n",
    "b=8\n",
    "y=m*x + b\n",
    "y"
   ]
  },
  {
   "cell_type": "code",
   "execution_count": 29,
   "metadata": {},
   "outputs": [],
   "source": [
    "for i in range (0,19):\n",
    "    s=0.5*np.random.uniform()\n",
    "    y[i]=y[i]+s"
   ]
  },
  {
   "cell_type": "code",
   "execution_count": 30,
   "metadata": {},
   "outputs": [
    {
     "data": {
      "text/plain": [
       "array([ 8.2967603 ,  8.76235593,  9.40279135, 10.20446837, 10.24499555,\n",
       "       10.97986272, 11.60667546, 12.05760402, 12.47015549, 13.21604731,\n",
       "       13.73968455, 14.37435379, 14.70173749, 15.15986908, 15.89642438,\n",
       "       16.15223745, 16.95749841, 17.39254729, 17.69574545, 18.        ])"
      ]
     },
     "execution_count": 30,
     "metadata": {},
     "output_type": "execute_result"
    }
   ],
   "source": [
    "y"
   ]
  },
  {
   "cell_type": "code",
   "execution_count": 32,
   "metadata": {},
   "outputs": [
    {
     "data": {
      "text/plain": [
       "<ErrorbarContainer object of 3 artists>"
      ]
     },
     "execution_count": 32,
     "metadata": {},
     "output_type": "execute_result"
    },
    {
     "data": {
      "image/png": "[encoded data removed]",
      "text/plain": [
       "<Figure size 432x288 with 1 Axes>"
      ]
     },
     "metadata": {
      "needs_background": "light"
     },
     "output_type": "display_data"
    }
   ],
   "source": [
    "plt.errorbar(x, y, 0.5)"
   ]
  },
  {
   "cell_type": "code",
   "execution_count": 33,
   "metadata": {},
   "outputs": [
    {
     "data": {
      "text/plain": [
       "(array([0.        , 0.10526316, 0.21052632, 0.31578947, 0.42105263,\n",
       "        0.52631579, 0.63157895, 0.73684211, 0.84210526, 0.94736842,\n",
       "        1.05263158, 1.15789474, 1.26315789, 1.36842105, 1.47368421,\n",
       "        1.57894737, 1.68421053, 1.78947368, 1.89473684, 2.        ]),\n",
       " array([ 8.2967603 ,  8.76235593,  9.40279135, 10.20446837, 10.24499555,\n",
       "        10.97986272, 11.60667546, 12.05760402, 12.47015549, 13.21604731,\n",
       "        13.73968455, 14.37435379, 14.70173749, 15.15986908, 15.89642438,\n",
       "        16.15223745, 16.95749841, 17.39254729, 17.69574545, 18.        ]))"
      ]
     },
     "execution_count": 33,
     "metadata": {},
     "output_type": "execute_result"
    }
   ],
   "source": [
    "x,y"
   ]
  },
  {
   "cell_type": "code",
   "execution_count": 34,
   "metadata": {},
   "outputs": [],
   "source": [
    "def linea(m,x,b):\n",
    "    return (m*x) +b"
   ]
  },
  {
   "cell_type": "code",
   "execution_count": 35,
   "metadata": {},
   "outputs": [],
   "source": [
    "def chi(theta,datos):   #theta son los parámetros a probar\n",
    "    m=theta[0] #datos son los datos de la observación\n",
    "    b=theta[1]\n",
    "    x=datos[0]\n",
    "    y=datos[1]\n",
    "    err=datos[2]\n",
    "    y_modelo=linea(m,x,b)\n",
    "    chi2=(y_mod-y)**2/err**2\n",
    "    return chi2.sum()"
   ]
  },
  {
   "cell_type": "code",
   "execution_count": null,
   "metadata": {},
   "outputs": [],
   "source": []
  }
 ],
 "metadata": {
  "kernelspec": {
   "display_name": "Python 3",
   "language": "python",
   "name": "python3"
  },
  "language_info": {
   "codemirror_mode": {
    "name": "ipython",
    "version": 3
   },
   "file_extension": ".py",
   "mimetype": "text/x-python",
   "name": "python",
   "nbconvert_exporter": "python",
   "pygments_lexer": "ipython3",
   "version": "3.7.5"
  }
 },
 "nbformat": 4,
 "nbformat_minor": 4
}
